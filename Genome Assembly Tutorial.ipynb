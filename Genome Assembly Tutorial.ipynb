{
 "cells": [
  {
   "cell_type": "markdown",
   "id": "2785daf6-e5b8-4e16-85da-c1c1f0f8607d",
   "metadata": {},
   "source": [
    "# Genome Assembly Tutorial"
   ]
  },
  {
   "cell_type": "markdown",
   "id": "835e1584",
   "metadata": {},
   "source": [
    "The OLC graph was constructed on scratch paper using some of the data I generated here as a guidance tool. For the de Bruijn graph method, I used the networkx package to create a multi-layered directed graph of the kmers and then search it for a eulerian path representing the genome assembly. This resulted in a failure to find a eulerian path after searching all possible starting nodes. The \"down and dirty\" visualizations I created of the graphs illustrate some of the complications which may have led to this error--such as disconnected subgraphs and circular edges connecting a node to itself.\n",
    "\n",
    "Documentation on the networkx package and methods that I used can be found here: https://networkx.org/documentation/stable/index.html\n",
    "\n",
    "My general approach to the de Bruijn graph genome assembly task follows the methodology outlined by Compeau and colleagues:\n",
    "- Compeau PE, Pevzner PA, Tesler G. How to apply de Bruijn graphs to genome assembly. Nat Biotechnol. 2011 Nov 8;29(11):987-91. doi: 10.1038/nbt.2023. PMID: 22068540; PMCID: PMC5531759."
   ]
  },
  {
   "cell_type": "code",
   "execution_count": 1,
   "id": "afea86f9-a2c9-42fe-b611-32d3e8084c2c",
   "metadata": {},
   "outputs": [],
   "source": [
    "# import graph and plotting utilities\n",
    "import networkx as nx\n",
    "import matplotlib.pyplot as plt\n",
    "import pandas as pd"
   ]
  },
  {
   "cell_type": "code",
   "execution_count": 2,
   "id": "d474406c-bc67-4bd0-940d-d63873d01523",
   "metadata": {},
   "outputs": [],
   "source": [
    "#data from assignment\n",
    "tiny_dino_reads = ['TTCGGA', 'GACTTC', 'AGACTT', 'TTCACG', 'AGCTAT', 'GAAAGC', 'CTATTC']"
   ]
  },
  {
   "cell_type": "markdown",
   "id": "332a06ad-9ba9-4df1-a04e-9b2e7093904d",
   "metadata": {},
   "source": [
    "### OLC graph of the reads with overlap score of 2 or higher"
   ]
  },
  {
   "cell_type": "code",
   "execution_count": 3,
   "id": "63674e1c-9274-49f7-84be-effa792f821a",
   "metadata": {},
   "outputs": [],
   "source": [
    "# importing sequencematcher object to simplify overlaps\n",
    "import difflib\n",
    "\n",
    "def get_overlap(s1, s2):\n",
    "    s = difflib.SequenceMatcher(None, s1, s2)\n",
    "    pos_a, pos_b, size = s.find_longest_match(0, len(s1), 0, len(s2)) \n",
    "    return s1[pos_a:pos_a+size]"
   ]
  },
  {
   "cell_type": "code",
   "execution_count": 4,
   "id": "806a1f74-027f-40c8-aff4-2b7cc989dd90",
   "metadata": {},
   "outputs": [],
   "source": [
    "#generate longest overlap for each possible pairing\n",
    "def poss_edges(read_list):\n",
    "    v_poss_edges = []\n",
    "    for i,v in enumerate(read_list):\n",
    "        temp = [v for v in read_list] # list comp needed to avoid referencing issues\n",
    "        temp.pop(i)\n",
    "        p_edges = [(get_overlap(v,x), x) for x in temp if len(get_overlap(v,x))>=2] #keep only overlaps 2 or greater\n",
    "        v_poss_edges.append((v, p_edges))\n",
    "    df = pd.DataFrame(data=v_poss_edges, columns=[\"vertex\", \"possible_edges\"])\n",
    "    return df"
   ]
  },
  {
   "cell_type": "code",
   "execution_count": 5,
   "id": "8cd470a9-4e55-4c11-83e5-e3f799bd1ca1",
   "metadata": {
    "scrolled": true
   },
   "outputs": [
    {
     "data": {
      "text/html": [
       "<div>\n",
       "<style scoped>\n",
       "    .dataframe tbody tr th:only-of-type {\n",
       "        vertical-align: middle;\n",
       "    }\n",
       "\n",
       "    .dataframe tbody tr th {\n",
       "        vertical-align: top;\n",
       "    }\n",
       "\n",
       "    .dataframe thead th {\n",
       "        text-align: right;\n",
       "    }\n",
       "</style>\n",
       "<table border=\"1\" class=\"dataframe\">\n",
       "  <thead>\n",
       "    <tr style=\"text-align: right;\">\n",
       "      <th></th>\n",
       "      <th>vertex</th>\n",
       "      <th>possible_edges</th>\n",
       "    </tr>\n",
       "  </thead>\n",
       "  <tbody>\n",
       "    <tr>\n",
       "      <th>0</th>\n",
       "      <td>TTCGGA</td>\n",
       "      <td>[(TTC, GACTTC), (TT, AGACTT), (TTC, TTCACG), (...</td>\n",
       "    </tr>\n",
       "    <tr>\n",
       "      <th>1</th>\n",
       "      <td>GACTTC</td>\n",
       "      <td>[(TTC, TTCGGA), (GACTT, AGACTT), (TTC, TTCACG)...</td>\n",
       "    </tr>\n",
       "    <tr>\n",
       "      <th>2</th>\n",
       "      <td>AGACTT</td>\n",
       "      <td>[(GA, TTCGGA), (GACTT, GACTTC), (AC, TTCACG), ...</td>\n",
       "    </tr>\n",
       "    <tr>\n",
       "      <th>3</th>\n",
       "      <td>TTCACG</td>\n",
       "      <td>[(TTC, TTCGGA), (TTC, GACTTC), (TT, AGACTT), (...</td>\n",
       "    </tr>\n",
       "    <tr>\n",
       "      <th>4</th>\n",
       "      <td>AGCTAT</td>\n",
       "      <td>[(CT, GACTTC), (AG, AGACTT), (AGC, GAAAGC), (C...</td>\n",
       "    </tr>\n",
       "    <tr>\n",
       "      <th>5</th>\n",
       "      <td>GAAAGC</td>\n",
       "      <td>[(GA, TTCGGA), (GA, GACTTC), (GA, AGACTT), (AG...</td>\n",
       "    </tr>\n",
       "    <tr>\n",
       "      <th>6</th>\n",
       "      <td>CTATTC</td>\n",
       "      <td>[(TTC, TTCGGA), (TTC, GACTTC), (CT, AGACTT), (...</td>\n",
       "    </tr>\n",
       "  </tbody>\n",
       "</table>\n",
       "</div>"
      ],
      "text/plain": [
       "   vertex                                     possible_edges\n",
       "0  TTCGGA  [(TTC, GACTTC), (TT, AGACTT), (TTC, TTCACG), (...\n",
       "1  GACTTC  [(TTC, TTCGGA), (GACTT, AGACTT), (TTC, TTCACG)...\n",
       "2  AGACTT  [(GA, TTCGGA), (GACTT, GACTTC), (AC, TTCACG), ...\n",
       "3  TTCACG  [(TTC, TTCGGA), (TTC, GACTTC), (TT, AGACTT), (...\n",
       "4  AGCTAT  [(CT, GACTTC), (AG, AGACTT), (AGC, GAAAGC), (C...\n",
       "5  GAAAGC  [(GA, TTCGGA), (GA, GACTTC), (GA, AGACTT), (AG...\n",
       "6  CTATTC  [(TTC, TTCGGA), (TTC, GACTTC), (CT, AGACTT), (..."
      ]
     },
     "execution_count": 5,
     "metadata": {},
     "output_type": "execute_result"
    }
   ],
   "source": [
    "table = poss_edges(tiny_dino_reads)\n",
    "table"
   ]
  },
  {
   "cell_type": "code",
   "execution_count": 6,
   "id": "a5ed3c07-6064-496b-86a2-db5718499d1b",
   "metadata": {
    "scrolled": true
   },
   "outputs": [
    {
     "data": {
      "text/html": [
       "<div>\n",
       "<style scoped>\n",
       "    .dataframe tbody tr th:only-of-type {\n",
       "        vertical-align: middle;\n",
       "    }\n",
       "\n",
       "    .dataframe tbody tr th {\n",
       "        vertical-align: top;\n",
       "    }\n",
       "\n",
       "    .dataframe thead th {\n",
       "        text-align: right;\n",
       "    }\n",
       "</style>\n",
       "<table border=\"1\" class=\"dataframe\">\n",
       "  <thead>\n",
       "    <tr style=\"text-align: right;\">\n",
       "      <th></th>\n",
       "      <th>vertex</th>\n",
       "      <th>possible_edges</th>\n",
       "    </tr>\n",
       "  </thead>\n",
       "  <tbody>\n",
       "    <tr>\n",
       "      <th>0</th>\n",
       "      <td>TTCGGA</td>\n",
       "      <td>[(TT, AGACTT), (TTC, TTCACG), (GA, GAAAGC)]</td>\n",
       "    </tr>\n",
       "    <tr>\n",
       "      <th>1</th>\n",
       "      <td>GACTTC</td>\n",
       "      <td>[(TTC, TTCGGA), (TTC, TTCACG), (GA, GAAAGC), (...</td>\n",
       "    </tr>\n",
       "    <tr>\n",
       "      <th>2</th>\n",
       "      <td>AGACTT</td>\n",
       "      <td>[(GACTT, GACTTC), (AG, AGCTAT), (CT, CTATTC)]</td>\n",
       "    </tr>\n",
       "    <tr>\n",
       "      <th>3</th>\n",
       "      <td>TTCACG</td>\n",
       "      <td>[(TTC, TTCGGA), (TT, AGACTT)]</td>\n",
       "    </tr>\n",
       "    <tr>\n",
       "      <th>4</th>\n",
       "      <td>AGCTAT</td>\n",
       "      <td>[(AG, AGACTT), (CTAT, CTATTC)]</td>\n",
       "    </tr>\n",
       "    <tr>\n",
       "      <th>5</th>\n",
       "      <td>GAAAGC</td>\n",
       "      <td>[(GA, GACTTC), (AGC, AGCTAT)]</td>\n",
       "    </tr>\n",
       "    <tr>\n",
       "      <th>6</th>\n",
       "      <td>CTATTC</td>\n",
       "      <td>[(TTC, TTCGGA), (TTC, GACTTC), (TTC, TTCACG)]</td>\n",
       "    </tr>\n",
       "  </tbody>\n",
       "</table>\n",
       "</div>"
      ],
      "text/plain": [
       "   vertex                                     possible_edges\n",
       "0  TTCGGA        [(TT, AGACTT), (TTC, TTCACG), (GA, GAAAGC)]\n",
       "1  GACTTC  [(TTC, TTCGGA), (TTC, TTCACG), (GA, GAAAGC), (...\n",
       "2  AGACTT      [(GACTT, GACTTC), (AG, AGCTAT), (CT, CTATTC)]\n",
       "3  TTCACG                      [(TTC, TTCGGA), (TT, AGACTT)]\n",
       "4  AGCTAT                     [(AG, AGACTT), (CTAT, CTATTC)]\n",
       "5  GAAAGC                      [(GA, GACTTC), (AGC, AGCTAT)]\n",
       "6  CTATTC      [(TTC, TTCGGA), (TTC, GACTTC), (TTC, TTCACG)]"
      ]
     },
     "execution_count": 6,
     "metadata": {},
     "output_type": "execute_result"
    }
   ],
   "source": [
    "#filter edges that do not overlap with correct orientation\n",
    "for n,i in enumerate(table[\"possible_edges\"]):\n",
    "    for j in i:\n",
    "        if j[1].startswith(j[0]):\n",
    "            continue\n",
    "        if table[\"vertex\"][n].endswith(j[0]):\n",
    "            continue\n",
    "        else:\n",
    "            i.remove(j)\n",
    "\n",
    "table"
   ]
  },
  {
   "cell_type": "markdown",
   "id": "1aa2f806-5436-4598-80f5-7bad5003b61a",
   "metadata": {},
   "source": [
    "### DBG graph of k=3"
   ]
  },
  {
   "cell_type": "code",
   "execution_count": 7,
   "id": "3e210d74",
   "metadata": {},
   "outputs": [],
   "source": [
    "#kmer objects for storing info\n",
    "class kmer:\n",
    "    def __init__(self, sequence):\n",
    "        self.sequence = sequence\n",
    "        self.prefix = sequence[:-1]\n",
    "        self.suffix = sequence[1:]"
   ]
  },
  {
   "cell_type": "code",
   "execution_count": 8,
   "id": "68e84ac4-631a-4bbf-b9c0-9e0b450ceb0b",
   "metadata": {},
   "outputs": [
    {
     "name": "stdout",
     "output_type": "stream",
     "text": [
      "atg at tg\n",
      "tgg tg gg\n",
      "gga gg ga\n",
      "gaa ga aa\n"
     ]
    }
   ],
   "source": [
    "#find kmers given k\n",
    "def kmers(sequence, k):\n",
    "    kmers = []\n",
    "    for i,base in enumerate(sequence):\n",
    "        window = (i+k)\n",
    "        if len(sequence[i:])>=k:\n",
    "            kmers.append(kmer(sequence[i:window]))\n",
    "        else:\n",
    "            break\n",
    "    return kmers\n",
    "\n",
    "#sanity check\n",
    "for i in kmers('atggaa', 3):\n",
    "    print(i.sequence, i.prefix, i.suffix)"
   ]
  },
  {
   "cell_type": "code",
   "execution_count": 13,
   "id": "1fec8d7f",
   "metadata": {},
   "outputs": [
    {
     "name": "stdout",
     "output_type": "stream",
     "text": [
      "{'AT', 'CA', 'GG', 'TA', 'CG', 'AA', 'TC', 'AC', 'AG', 'CT', 'TT', 'GA', 'GC'}\n",
      "[('AT', 'TT', {'kmr': 'ATT'}), ('CA', 'AC', {'kmr': 'CAC'}), ('GG', 'GA', {'kmr': 'GGA'}), ('TA', 'AT', {'kmr': 'TAT'}), ('TA', 'AT', {'kmr': 'TAT'}), ('CG', 'GG', {'kmr': 'CGG'}), ('AA', 'AA', {'kmr': 'AAA'}), ('AA', 'AG', {'kmr': 'AAG'}), ('TC', 'CG', {'kmr': 'TCG'}), ('TC', 'CA', {'kmr': 'TCA'}), ('AC', 'CT', {'kmr': 'ACT'}), ('AC', 'CT', {'kmr': 'ACT'}), ('AC', 'CG', {'kmr': 'ACG'}), ('AG', 'GA', {'kmr': 'AGA'}), ('AG', 'GC', {'kmr': 'AGC'}), ('AG', 'GC', {'kmr': 'AGC'}), ('CT', 'TT', {'kmr': 'CTT'}), ('CT', 'TT', {'kmr': 'CTT'}), ('CT', 'TA', {'kmr': 'CTA'}), ('CT', 'TA', {'kmr': 'CTA'}), ('TT', 'TC', {'kmr': 'TTC'}), ('TT', 'TC', {'kmr': 'TTC'}), ('TT', 'TC', {'kmr': 'TTC'}), ('TT', 'TC', {'kmr': 'TTC'}), ('GA', 'AC', {'kmr': 'GAC'}), ('GA', 'AC', {'kmr': 'GAC'}), ('GA', 'AA', {'kmr': 'GAA'}), ('GC', 'CT', {'kmr': 'GCT'})]\n"
     ]
    },
    {
     "data": {
      "image/png": "[encoded data removed]",
      "text/plain": [
       "<Figure size 640x480 with 1 Axes>"
      ]
     },
     "metadata": {},
     "output_type": "display_data"
    }
   ],
   "source": [
    "# instantiate multi-layer directed graph\n",
    "G3 = nx.MultiDiGraph()\n",
    "\n",
    "#generate kmers\n",
    "kmers_3 = []\n",
    "for s in tiny_dino_reads:\n",
    "    for m in kmers(sequence=s,k=3):\n",
    "        kmers_3.append(m)\n",
    "\n",
    "#add unique (k-1)mer nodes per eulerian construction\n",
    "nodes = set([i.prefix for i in kmers_3]+[i.suffix for i in kmers_3])\n",
    "print(nodes)\n",
    "G3.add_nodes_from(nodes)\n",
    "\n",
    "#add edge for each kmer with prefix/suffix matching\n",
    "for e in kmers_3:\n",
    "    G3.add_edge(e.prefix, e.suffix, kmr=e.sequence)\n",
    "print(G3.edges(data=True))\n",
    "\n",
    "#scratch visualization\n",
    "nx.draw_networkx(G3)"
   ]
  },
  {
   "cell_type": "code",
   "execution_count": 14,
   "id": "cff012dd",
   "metadata": {},
   "outputs": [
    {
     "ename": "NetworkXError",
     "evalue": "Graph has no Eulerian paths.",
     "output_type": "error",
     "traceback": [
      "\u001b[1;31m---------------------------------------------------------------------------\u001b[0m",
      "\u001b[1;31mNetworkXError\u001b[0m                             Traceback (most recent call last)",
      "Cell \u001b[1;32mIn[14], line 2\u001b[0m\n\u001b[0;32m      1\u001b[0m \u001b[38;5;66;03m# try to find eulerian path\u001b[39;00m\n\u001b[1;32m----> 2\u001b[0m kmer_3_path \u001b[38;5;241m=\u001b[39m \u001b[43m[\u001b[49m\u001b[43mx\u001b[49m\u001b[43m \u001b[49m\u001b[38;5;28;43;01mfor\u001b[39;49;00m\u001b[43m \u001b[49m\u001b[43mx\u001b[49m\u001b[43m \u001b[49m\u001b[38;5;129;43;01min\u001b[39;49;00m\u001b[43m \u001b[49m\u001b[43mnx\u001b[49m\u001b[38;5;241;43m.\u001b[39;49m\u001b[43meulerian_path\u001b[49m\u001b[43m(\u001b[49m\u001b[43mG3\u001b[49m\u001b[43m,\u001b[49m\u001b[43m \u001b[49m\u001b[43mkeys\u001b[49m\u001b[38;5;241;43m=\u001b[39;49m\u001b[38;5;28;43;01mTrue\u001b[39;49;00m\u001b[43m)\u001b[49m\u001b[43m]\u001b[49m\n\u001b[0;32m      3\u001b[0m kmer_3_path\n",
      "File \u001b[1;32mc:\\Users\\ninja\\anaconda3\\envs\\HIDS\\Lib\\site-packages\\networkx\\algorithms\\euler.py:356\u001b[0m, in \u001b[0;36meulerian_path\u001b[1;34m(G, source, keys)\u001b[0m\n\u001b[0;32m    335\u001b[0m \u001b[38;5;250m\u001b[39m\u001b[38;5;124;03m\"\"\"Return an iterator over the edges of an Eulerian path in `G`.\u001b[39;00m\n\u001b[0;32m    336\u001b[0m \n\u001b[0;32m    337\u001b[0m \u001b[38;5;124;03mParameters\u001b[39;00m\n\u001b[1;32m   (...)\u001b[0m\n\u001b[0;32m    353\u001b[0m \u001b[38;5;124;03mwill raise error even if an Euler Path exists.\u001b[39;00m\n\u001b[0;32m    354\u001b[0m \u001b[38;5;124;03m\"\"\"\u001b[39;00m\n\u001b[0;32m    355\u001b[0m \u001b[38;5;28;01mif\u001b[39;00m \u001b[38;5;129;01mnot\u001b[39;00m has_eulerian_path(G, source):\n\u001b[1;32m--> 356\u001b[0m     \u001b[38;5;28;01mraise\u001b[39;00m nx\u001b[38;5;241m.\u001b[39mNetworkXError(\u001b[38;5;124m\"\u001b[39m\u001b[38;5;124mGraph has no Eulerian paths.\u001b[39m\u001b[38;5;124m\"\u001b[39m)\n\u001b[0;32m    357\u001b[0m \u001b[38;5;28;01mif\u001b[39;00m G\u001b[38;5;241m.\u001b[39mis_directed():\n\u001b[0;32m    358\u001b[0m     G \u001b[38;5;241m=\u001b[39m G\u001b[38;5;241m.\u001b[39mreverse()\n",
      "\u001b[1;31mNetworkXError\u001b[0m: Graph has no Eulerian paths."
     ]
    }
   ],
   "source": [
    "# try to find eulerian path\n",
    "kmer_3_path = [x for x in nx.eulerian_path(G3, keys=True)]\n",
    "kmer_3_path"
   ]
  },
  {
   "cell_type": "code",
   "execution_count": 15,
   "id": "32d57932",
   "metadata": {},
   "outputs": [
    {
     "ename": "NetworkXError",
     "evalue": "G is not Eulerian.",
     "output_type": "error",
     "traceback": [
      "\u001b[1;31m---------------------------------------------------------------------------\u001b[0m",
      "\u001b[1;31mNetworkXError\u001b[0m                             Traceback (most recent call last)",
      "Cell \u001b[1;32mIn[15], line 2\u001b[0m\n\u001b[0;32m      1\u001b[0m \u001b[38;5;66;03m# check circular\u001b[39;00m\n\u001b[1;32m----> 2\u001b[0m kmer_3_circuit \u001b[38;5;241m=\u001b[39m \u001b[43m[\u001b[49m\u001b[43mu\u001b[49m\u001b[43m \u001b[49m\u001b[38;5;28;43;01mfor\u001b[39;49;00m\u001b[43m \u001b[49m\u001b[43mu\u001b[49m\u001b[43m,\u001b[49m\u001b[43m \u001b[49m\u001b[43mv\u001b[49m\u001b[43m \u001b[49m\u001b[38;5;129;43;01min\u001b[39;49;00m\u001b[43m \u001b[49m\u001b[43mnx\u001b[49m\u001b[38;5;241;43m.\u001b[39;49m\u001b[43meulerian_circuit\u001b[49m\u001b[43m(\u001b[49m\u001b[43mG3\u001b[49m\u001b[43m)\u001b[49m\u001b[43m]\u001b[49m\n\u001b[0;32m      3\u001b[0m kmer_3_circuit\n",
      "File \u001b[1;32mc:\\Users\\ninja\\anaconda3\\envs\\HIDS\\Lib\\site-packages\\networkx\\algorithms\\euler.py:221\u001b[0m, in \u001b[0;36meulerian_circuit\u001b[1;34m(G, source, keys)\u001b[0m\n\u001b[0;32m    159\u001b[0m \u001b[38;5;250m\u001b[39m\u001b[38;5;124;03m\"\"\"Returns an iterator over the edges of an Eulerian circuit in `G`.\u001b[39;00m\n\u001b[0;32m    160\u001b[0m \n\u001b[0;32m    161\u001b[0m \u001b[38;5;124;03mAn *Eulerian circuit* is a closed walk that includes each edge of a\u001b[39;00m\n\u001b[1;32m   (...)\u001b[0m\n\u001b[0;32m    218\u001b[0m \n\u001b[0;32m    219\u001b[0m \u001b[38;5;124;03m\"\"\"\u001b[39;00m\n\u001b[0;32m    220\u001b[0m \u001b[38;5;28;01mif\u001b[39;00m \u001b[38;5;129;01mnot\u001b[39;00m is_eulerian(G):\n\u001b[1;32m--> 221\u001b[0m     \u001b[38;5;28;01mraise\u001b[39;00m nx\u001b[38;5;241m.\u001b[39mNetworkXError(\u001b[38;5;124m\"\u001b[39m\u001b[38;5;124mG is not Eulerian.\u001b[39m\u001b[38;5;124m\"\u001b[39m)\n\u001b[0;32m    222\u001b[0m \u001b[38;5;28;01mif\u001b[39;00m G\u001b[38;5;241m.\u001b[39mis_directed():\n\u001b[0;32m    223\u001b[0m     G \u001b[38;5;241m=\u001b[39m G\u001b[38;5;241m.\u001b[39mreverse()\n",
      "\u001b[1;31mNetworkXError\u001b[0m: G is not Eulerian."
     ]
    }
   ],
   "source": [
    "# check circular\n",
    "kmer_3_circuit = [u for u, v in nx.eulerian_circuit(G3)]\n",
    "kmer_3_circuit"
   ]
  },
  {
   "cell_type": "code",
   "execution_count": 16,
   "id": "3bafcb19",
   "metadata": {},
   "outputs": [
    {
     "name": "stdout",
     "output_type": "stream",
     "text": [
      "edges: 28\n",
      "in edges: 28\n",
      "out edges: 28\n",
      "nodes: 13\n"
     ]
    }
   ],
   "source": [
    "print(f\"edges: {len(G3.edges)}\")\n",
    "print(f\"in edges: {len(G3.in_edges)}\")\n",
    "print(f\"out edges: {len(G3.out_edges)}\")\n",
    "print(f\"nodes: {len(G3.nodes)}\")"
   ]
  },
  {
   "cell_type": "markdown",
   "id": "6245fac7-130a-4557-b11e-b1e0a90a1121",
   "metadata": {},
   "source": [
    "### DBG graph of k=5"
   ]
  },
  {
   "cell_type": "code",
   "execution_count": 17,
   "id": "1b3f2dd2-e61f-4300-9d49-0c7537b61813",
   "metadata": {},
   "outputs": [
    {
     "name": "stdout",
     "output_type": "stream",
     "text": [
      "{'CGGA', 'TTCG', 'CTTC', 'AAGC', 'TATT', 'CACG', 'TTCA', 'TCAC', 'AAAG', 'ACTT', 'GCTA', 'GACT', 'AGCT', 'CTAT', 'TCGG', 'AGAC', 'GAAA', 'ATTC'}\n",
      "[('TTCG', 'TCGG', {'kmr': 'TTCGG'}), ('TATT', 'ATTC', {'kmr': 'TATTC'}), ('TTCA', 'TCAC', {'kmr': 'TTCAC'}), ('TCAC', 'CACG', {'kmr': 'TCACG'}), ('AAAG', 'AAGC', {'kmr': 'AAAGC'}), ('ACTT', 'CTTC', {'kmr': 'ACTTC'}), ('GCTA', 'CTAT', {'kmr': 'GCTAT'}), ('GACT', 'ACTT', {'kmr': 'GACTT'}), ('GACT', 'ACTT', {'kmr': 'GACTT'}), ('AGCT', 'GCTA', {'kmr': 'AGCTA'}), ('CTAT', 'TATT', {'kmr': 'CTATT'}), ('TCGG', 'CGGA', {'kmr': 'TCGGA'}), ('AGAC', 'GACT', {'kmr': 'AGACT'}), ('GAAA', 'AAAG', {'kmr': 'GAAAG'})]\n"
     ]
    },
    {
     "data": {
      "image/png": "[encoded data removed]",
      "text/plain": [
       "<Figure size 640x480 with 1 Axes>"
      ]
     },
     "metadata": {},
     "output_type": "display_data"
    }
   ],
   "source": [
    "# instantiate multi-layer directed graph\n",
    "G5 = nx.MultiDiGraph()\n",
    "\n",
    "#generate kmers\n",
    "kmers_5 = []\n",
    "for s in tiny_dino_reads:\n",
    "    for m in kmers(sequence=s,k=5):\n",
    "        kmers_5.append(m)\n",
    "\n",
    "#add unique (k-1)mer nodes per eulerian construction\n",
    "nodes = set([i.prefix for i in kmers_5]+[i.suffix for i in kmers_5])\n",
    "print(nodes)\n",
    "G5.add_nodes_from(nodes)\n",
    "\n",
    "#add edge for each kmer with prefix/suffix matching\n",
    "for e in kmers_5:\n",
    "    G5.add_edge(e.prefix, e.suffix, kmr=e.sequence)\n",
    "print(G5.edges(data=True))\n",
    "\n",
    "#scratch visualization\n",
    "nx.draw_networkx(G5)"
   ]
  },
  {
   "cell_type": "code",
   "execution_count": 18,
   "id": "1d29580e",
   "metadata": {},
   "outputs": [
    {
     "ename": "NetworkXError",
     "evalue": "Graph has no Eulerian paths.",
     "output_type": "error",
     "traceback": [
      "\u001b[1;31m---------------------------------------------------------------------------\u001b[0m",
      "\u001b[1;31mNetworkXError\u001b[0m                             Traceback (most recent call last)",
      "Cell \u001b[1;32mIn[18], line 2\u001b[0m\n\u001b[0;32m      1\u001b[0m \u001b[38;5;66;03m# try to find eulerian path\u001b[39;00m\n\u001b[1;32m----> 2\u001b[0m kmer_5_path \u001b[38;5;241m=\u001b[39m \u001b[43m[\u001b[49m\u001b[43mx\u001b[49m\u001b[43m \u001b[49m\u001b[38;5;28;43;01mfor\u001b[39;49;00m\u001b[43m \u001b[49m\u001b[43mx\u001b[49m\u001b[43m \u001b[49m\u001b[38;5;129;43;01min\u001b[39;49;00m\u001b[43m \u001b[49m\u001b[43mnx\u001b[49m\u001b[38;5;241;43m.\u001b[39;49m\u001b[43meulerian_path\u001b[49m\u001b[43m(\u001b[49m\u001b[43mG5\u001b[49m\u001b[43m,\u001b[49m\u001b[43m \u001b[49m\u001b[43mkeys\u001b[49m\u001b[38;5;241;43m=\u001b[39;49m\u001b[38;5;28;43;01mTrue\u001b[39;49;00m\u001b[43m)\u001b[49m\u001b[43m]\u001b[49m\n\u001b[0;32m      3\u001b[0m kmer_5_path\n",
      "File \u001b[1;32mc:\\Users\\ninja\\anaconda3\\envs\\HIDS\\Lib\\site-packages\\networkx\\algorithms\\euler.py:356\u001b[0m, in \u001b[0;36meulerian_path\u001b[1;34m(G, source, keys)\u001b[0m\n\u001b[0;32m    335\u001b[0m \u001b[38;5;250m\u001b[39m\u001b[38;5;124;03m\"\"\"Return an iterator over the edges of an Eulerian path in `G`.\u001b[39;00m\n\u001b[0;32m    336\u001b[0m \n\u001b[0;32m    337\u001b[0m \u001b[38;5;124;03mParameters\u001b[39;00m\n\u001b[1;32m   (...)\u001b[0m\n\u001b[0;32m    353\u001b[0m \u001b[38;5;124;03mwill raise error even if an Euler Path exists.\u001b[39;00m\n\u001b[0;32m    354\u001b[0m \u001b[38;5;124;03m\"\"\"\u001b[39;00m\n\u001b[0;32m    355\u001b[0m \u001b[38;5;28;01mif\u001b[39;00m \u001b[38;5;129;01mnot\u001b[39;00m has_eulerian_path(G, source):\n\u001b[1;32m--> 356\u001b[0m     \u001b[38;5;28;01mraise\u001b[39;00m nx\u001b[38;5;241m.\u001b[39mNetworkXError(\u001b[38;5;124m\"\u001b[39m\u001b[38;5;124mGraph has no Eulerian paths.\u001b[39m\u001b[38;5;124m\"\u001b[39m)\n\u001b[0;32m    357\u001b[0m \u001b[38;5;28;01mif\u001b[39;00m G\u001b[38;5;241m.\u001b[39mis_directed():\n\u001b[0;32m    358\u001b[0m     G \u001b[38;5;241m=\u001b[39m G\u001b[38;5;241m.\u001b[39mreverse()\n",
      "\u001b[1;31mNetworkXError\u001b[0m: Graph has no Eulerian paths."
     ]
    }
   ],
   "source": [
    "# try to find eulerian path\n",
    "kmer_5_path = [x for x in nx.eulerian_path(G5, keys=True)]\n",
    "kmer_5_path"
   ]
  },
  {
   "cell_type": "markdown",
   "id": "f86234c8",
   "metadata": {},
   "source": [
    "### Part 3: Q and A\n",
    "\n",
    "Did you get the same answer from all approaches? If not describe why.\n",
    "- As noted above, I was unable to obtain an answer using the de Bruijn graph method, although I was able to obtain one with the OLC method by hand. This is likely due to the complexity of the graphs I constructed and the artifact found in each graph due to the small size of the genome and reads used in this example. It would be interesting to investigate the cause of this issue in more depth.\n",
    "\n",
    "What approach do you think was the most accurate?\n",
    "- Due to the small scale of this exercise, I think the overlap consensus method was the most accurate. However, this is also an empty truism considering neither of the other 2 graphs satisfied the eulerian condition necessary to assemble the genome. It is also worth noting that the de Bruijn graph method is significantly more scalable than the OLC method, which is critical when dealing with real genomes that may be enormous compared to this exercise."
   ]
  },
  {
   "cell_type": "markdown",
   "id": "8fbc7b15",
   "metadata": {},
   "source": []
  }
 ],
 "metadata": {
  "kernelspec": {
   "display_name": "HIDS",
   "language": "python",
   "name": "python3"
  },
  "language_info": {
   "codemirror_mode": {
    "name": "ipython",
    "version": 3
   },
   "file_extension": ".py",
   "mimetype": "text/x-python",
   "name": "python",
   "nbconvert_exporter": "python",
   "pygments_lexer": "ipython3",
   "version": "3.12.1"
  }
 },
 "nbformat": 4,
 "nbformat_minor": 5
}
