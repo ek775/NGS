{
 "cells": [
  {
   "cell_type": "markdown",
   "id": "2785daf6-e5b8-4e16-85da-c1c1f0f8607d",
   "metadata": {},
   "source": [
    "# Genome Assembly Tutorial"
   ]
  },
  {
   "cell_type": "code",
   "execution_count": 1,
   "id": "afea86f9-a2c9-42fe-b611-32d3e8084c2c",
   "metadata": {},
   "outputs": [],
   "source": [
    "# import graph and plotting utilities\n",
    "import networkx as nx\n",
    "import matplotlib.pyplot as plt\n",
    "import pandas as pd"
   ]
  },
  {
   "cell_type": "code",
   "execution_count": 2,
   "id": "d474406c-bc67-4bd0-940d-d63873d01523",
   "metadata": {},
   "outputs": [],
   "source": [
    "#data from assignment\n",
    "tiny_dino_reads = ['TTCGGA', 'GACTTC', 'AGACTT', 'TTCACG', 'AGCTAT', 'GAAAGC', 'CTATTC']"
   ]
  },
  {
   "cell_type": "markdown",
   "id": "332a06ad-9ba9-4df1-a04e-9b2e7093904d",
   "metadata": {},
   "source": [
    "### OLC graph of the reads with overlap score of 2 or higher"
   ]
  },
  {
   "cell_type": "code",
   "execution_count": 3,
   "id": "63674e1c-9274-49f7-84be-effa792f821a",
   "metadata": {},
   "outputs": [],
   "source": [
    "# importing sequencematcher object to simplify overlaps\n",
    "import difflib\n",
    "\n",
    "def get_overlap(s1, s2):\n",
    "    s = difflib.SequenceMatcher(None, s1, s2)\n",
    "    pos_a, pos_b, size = s.find_longest_match(0, len(s1), 0, len(s2)) \n",
    "    return s1[pos_a:pos_a+size]"
   ]
  },
  {
   "cell_type": "code",
   "execution_count": 4,
   "id": "806a1f74-027f-40c8-aff4-2b7cc989dd90",
   "metadata": {},
   "outputs": [],
   "source": [
    "#generate longest overlap for each possible pairing\n",
    "def poss_edges(read_list):\n",
    "    v_poss_edges = []\n",
    "    for i,v in enumerate(read_list):\n",
    "        temp = [v for v in read_list] # list comp needed to avoid referencing issues\n",
    "        temp.pop(i)\n",
    "        p_edges = [(get_overlap(v,x), x) for x in temp if len(get_overlap(v,x))>=2] #keep only overlaps 2 or greater\n",
    "        v_poss_edges.append((v, p_edges))\n",
    "    df = pd.DataFrame(data=v_poss_edges, columns=[\"vertex\", \"possible_edges\"])\n",
    "    return df"
   ]
  },
  {
   "cell_type": "code",
   "execution_count": 5,
   "id": "8cd470a9-4e55-4c11-83e5-e3f799bd1ca1",
   "metadata": {
    "scrolled": true
   },
   "outputs": [
    {
     "data": {
      "text/html": [
       "<div>\n",
       "<style scoped>\n",
       "    .dataframe tbody tr th:only-of-type {\n",
       "        vertical-align: middle;\n",
       "    }\n",
       "\n",
       "    .dataframe tbody tr th {\n",
       "        vertical-align: top;\n",
       "    }\n",
       "\n",
       "    .dataframe thead th {\n",
       "        text-align: right;\n",
       "    }\n",
       "</style>\n",
       "<table border=\"1\" class=\"dataframe\">\n",
       "  <thead>\n",
       "    <tr style=\"text-align: right;\">\n",
       "      <th></th>\n",
       "      <th>vertex</th>\n",
       "      <th>possible_edges</th>\n",
       "    </tr>\n",
       "  </thead>\n",
       "  <tbody>\n",
       "    <tr>\n",
       "      <th>0</th>\n",
       "      <td>TTCGGA</td>\n",
       "      <td>[(TTC, GACTTC), (TT, AGACTT), (TTC, TTCACG), (...</td>\n",
       "    </tr>\n",
       "    <tr>\n",
       "      <th>1</th>\n",
       "      <td>GACTTC</td>\n",
       "      <td>[(TTC, TTCGGA), (GACTT, AGACTT), (TTC, TTCACG)...</td>\n",
       "    </tr>\n",
       "    <tr>\n",
       "      <th>2</th>\n",
       "      <td>AGACTT</td>\n",
       "      <td>[(GA, TTCGGA), (GACTT, GACTTC), (AC, TTCACG), ...</td>\n",
       "    </tr>\n",
       "    <tr>\n",
       "      <th>3</th>\n",
       "      <td>TTCACG</td>\n",
       "      <td>[(TTC, TTCGGA), (TTC, GACTTC), (TT, AGACTT), (...</td>\n",
       "    </tr>\n",
       "    <tr>\n",
       "      <th>4</th>\n",
       "      <td>AGCTAT</td>\n",
       "      <td>[(CT, GACTTC), (AG, AGACTT), (AGC, GAAAGC), (C...</td>\n",
       "    </tr>\n",
       "    <tr>\n",
       "      <th>5</th>\n",
       "      <td>GAAAGC</td>\n",
       "      <td>[(GA, TTCGGA), (GA, GACTTC), (GA, AGACTT), (AG...</td>\n",
       "    </tr>\n",
       "    <tr>\n",
       "      <th>6</th>\n",
       "      <td>CTATTC</td>\n",
       "      <td>[(TTC, TTCGGA), (TTC, GACTTC), (CT, AGACTT), (...</td>\n",
       "    </tr>\n",
       "  </tbody>\n",
       "</table>\n",
       "</div>"
      ],
      "text/plain": [
       "   vertex                                     possible_edges\n",
       "0  TTCGGA  [(TTC, GACTTC), (TT, AGACTT), (TTC, TTCACG), (...\n",
       "1  GACTTC  [(TTC, TTCGGA), (GACTT, AGACTT), (TTC, TTCACG)...\n",
       "2  AGACTT  [(GA, TTCGGA), (GACTT, GACTTC), (AC, TTCACG), ...\n",
       "3  TTCACG  [(TTC, TTCGGA), (TTC, GACTTC), (TT, AGACTT), (...\n",
       "4  AGCTAT  [(CT, GACTTC), (AG, AGACTT), (AGC, GAAAGC), (C...\n",
       "5  GAAAGC  [(GA, TTCGGA), (GA, GACTTC), (GA, AGACTT), (AG...\n",
       "6  CTATTC  [(TTC, TTCGGA), (TTC, GACTTC), (CT, AGACTT), (..."
      ]
     },
     "execution_count": 5,
     "metadata": {},
     "output_type": "execute_result"
    }
   ],
   "source": [
    "table = poss_edges(tiny_dino_reads)\n",
    "table"
   ]
  },
  {
   "cell_type": "code",
   "execution_count": 6,
   "id": "a5ed3c07-6064-496b-86a2-db5718499d1b",
   "metadata": {
    "scrolled": true
   },
   "outputs": [
    {
     "data": {
      "text/html": [
       "<div>\n",
       "<style scoped>\n",
       "    .dataframe tbody tr th:only-of-type {\n",
       "        vertical-align: middle;\n",
       "    }\n",
       "\n",
       "    .dataframe tbody tr th {\n",
       "        vertical-align: top;\n",
       "    }\n",
       "\n",
       "    .dataframe thead th {\n",
       "        text-align: right;\n",
       "    }\n",
       "</style>\n",
       "<table border=\"1\" class=\"dataframe\">\n",
       "  <thead>\n",
       "    <tr style=\"text-align: right;\">\n",
       "      <th></th>\n",
       "      <th>vertex</th>\n",
       "      <th>possible_edges</th>\n",
       "    </tr>\n",
       "  </thead>\n",
       "  <tbody>\n",
       "    <tr>\n",
       "      <th>0</th>\n",
       "      <td>TTCGGA</td>\n",
       "      <td>[(TT, AGACTT), (TTC, TTCACG), (GA, GAAAGC)]</td>\n",
       "    </tr>\n",
       "    <tr>\n",
       "      <th>1</th>\n",
       "      <td>GACTTC</td>\n",
       "      <td>[(TTC, TTCGGA), (TTC, TTCACG), (GA, GAAAGC), (...</td>\n",
       "    </tr>\n",
       "    <tr>\n",
       "      <th>2</th>\n",
       "      <td>AGACTT</td>\n",
       "      <td>[(GACTT, GACTTC), (AG, AGCTAT), (CT, CTATTC)]</td>\n",
       "    </tr>\n",
       "    <tr>\n",
       "      <th>3</th>\n",
       "      <td>TTCACG</td>\n",
       "      <td>[(TTC, TTCGGA), (TT, AGACTT)]</td>\n",
       "    </tr>\n",
       "    <tr>\n",
       "      <th>4</th>\n",
       "      <td>AGCTAT</td>\n",
       "      <td>[(AG, AGACTT), (CTAT, CTATTC)]</td>\n",
       "    </tr>\n",
       "    <tr>\n",
       "      <th>5</th>\n",
       "      <td>GAAAGC</td>\n",
       "      <td>[(GA, GACTTC), (AGC, AGCTAT)]</td>\n",
       "    </tr>\n",
       "    <tr>\n",
       "      <th>6</th>\n",
       "      <td>CTATTC</td>\n",
       "      <td>[(TTC, TTCGGA), (TTC, GACTTC), (TTC, TTCACG)]</td>\n",
       "    </tr>\n",
       "  </tbody>\n",
       "</table>\n",
       "</div>"
      ],
      "text/plain": [
       "   vertex                                     possible_edges\n",
       "0  TTCGGA        [(TT, AGACTT), (TTC, TTCACG), (GA, GAAAGC)]\n",
       "1  GACTTC  [(TTC, TTCGGA), (TTC, TTCACG), (GA, GAAAGC), (...\n",
       "2  AGACTT      [(GACTT, GACTTC), (AG, AGCTAT), (CT, CTATTC)]\n",
       "3  TTCACG                      [(TTC, TTCGGA), (TT, AGACTT)]\n",
       "4  AGCTAT                     [(AG, AGACTT), (CTAT, CTATTC)]\n",
       "5  GAAAGC                      [(GA, GACTTC), (AGC, AGCTAT)]\n",
       "6  CTATTC      [(TTC, TTCGGA), (TTC, GACTTC), (TTC, TTCACG)]"
      ]
     },
     "execution_count": 6,
     "metadata": {},
     "output_type": "execute_result"
    }
   ],
   "source": [
    "#filter edges that do not overlap with correct orientation\n",
    "for n,i in enumerate(table[\"possible_edges\"]):\n",
    "    for j in i:\n",
    "        if j[1].startswith(j[0]):\n",
    "            continue\n",
    "        if table[\"vertex\"][n].endswith(j[0]):\n",
    "            continue\n",
    "        else:\n",
    "            i.remove(j)\n",
    "\n",
    "table"
   ]
  },
  {
   "cell_type": "markdown",
   "id": "1aa2f806-5436-4598-80f5-7bad5003b61a",
   "metadata": {},
   "source": [
    "### DBG graph of k=3"
   ]
  },
  {
   "cell_type": "code",
   "execution_count": 7,
   "id": "68e84ac4-631a-4bbf-b9c0-9e0b450ceb0b",
   "metadata": {},
   "outputs": [
    {
     "name": "stdout",
     "output_type": "stream",
     "text": [
      "['atg', 'tgg', 'gga', 'gaa']\n"
     ]
    }
   ],
   "source": [
    "def kmers(sequence, k):\n",
    "    kmers = []\n",
    "    for i,base in enumerate(sequence):\n",
    "        window = (i+k)\n",
    "        if len(sequence[i:])>=k:\n",
    "            kmers.append(sequence[i:window])\n",
    "        else:\n",
    "            break\n",
    "    return kmers\n",
    "\n",
    "print(kmers('atggaa', 3))"
   ]
  },
  {
   "cell_type": "code",
   "execution_count": 8,
   "id": "31dde64c-9606-4d72-8360-10e46f7503a7",
   "metadata": {},
   "outputs": [
    {
     "data": {
      "text/plain": [
       "[['TTC', 'TCG', 'CGG', 'GGA'],\n",
       " ['GAC', 'ACT', 'CTT', 'TTC'],\n",
       " ['AGA', 'GAC', 'ACT', 'CTT'],\n",
       " ['TTC', 'TCA', 'CAC', 'ACG'],\n",
       " ['AGC', 'GCT', 'CTA', 'TAT'],\n",
       " ['GAA', 'AAA', 'AAG', 'AGC'],\n",
       " ['CTA', 'TAT', 'ATT', 'TTC']]"
      ]
     },
     "execution_count": 8,
     "metadata": {},
     "output_type": "execute_result"
    }
   ],
   "source": [
    "kmers_3 = [kmers(x, 3) for x in tiny_dino_reads]\n",
    "kmers_3"
   ]
  },
  {
   "cell_type": "markdown",
   "id": "6245fac7-130a-4557-b11e-b1e0a90a1121",
   "metadata": {},
   "source": [
    "### DBG graph of k=5"
   ]
  },
  {
   "cell_type": "code",
   "execution_count": 9,
   "id": "323cd99e-0b84-4113-ac3f-7f68a0ccbb2b",
   "metadata": {},
   "outputs": [
    {
     "data": {
      "text/plain": [
       "[['TTCGG', 'TCGGA'],\n",
       " ['GACTT', 'ACTTC'],\n",
       " ['AGACT', 'GACTT'],\n",
       " ['TTCAC', 'TCACG'],\n",
       " ['AGCTA', 'GCTAT'],\n",
       " ['GAAAG', 'AAAGC'],\n",
       " ['CTATT', 'TATTC']]"
      ]
     },
     "execution_count": 9,
     "metadata": {},
     "output_type": "execute_result"
    }
   ],
   "source": [
    "kmers_5 = [kmers(x, 5) for x in tiny_dino_reads]\n",
    "kmers_5"
   ]
  },
  {
   "cell_type": "code",
   "execution_count": null,
   "id": "1b3f2dd2-e61f-4300-9d49-0c7537b61813",
   "metadata": {},
   "outputs": [],
   "source": []
  }
 ],
 "metadata": {
  "kernelspec": {
   "display_name": "HIDS",
   "language": "python",
   "name": "hids"
  },
  "language_info": {
   "codemirror_mode": {
    "name": "ipython",
    "version": 3
   },
   "file_extension": ".py",
   "mimetype": "text/x-python",
   "name": "python",
   "nbconvert_exporter": "python",
   "pygments_lexer": "ipython3",
   "version": "3.12.1"
  }
 },
 "nbformat": 4,
 "nbformat_minor": 5
}
